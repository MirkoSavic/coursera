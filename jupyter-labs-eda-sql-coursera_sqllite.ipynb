{
 "cells": [
  {
   "cell_type": "markdown",
   "metadata": {},
   "source": [
    "<p style=\"text-align:center\">\n",
    "    <a href=\"https://skills.network\" target=\"_blank\">\n",
    "    <img src=\"https://cf-courses-data.s3.us.cloud-object-storage.appdomain.cloud/assets/logos/SN_web_lightmode.png\" width=\"200\" alt=\"Skills Network Logo\">\n",
    "    </a>\n",
    "</p>\n",
    "\n",
    "<h1 align=center><font size = 5>Assignment: SQL Notebook for Peer Assignment</font></h1>\n",
    "\n",
    "Estimated time needed: **60** minutes.\n",
    "\n",
    "## Introduction\n",
    "Using this Python notebook you will:\n",
    "\n",
    "1.  Understand the Spacex DataSet\n",
    "2.  Load the dataset  into the corresponding table in a Db2 database\n",
    "3.  Execute SQL queries to answer assignment questions \n"
   ]
  },
  {
   "cell_type": "markdown",
   "metadata": {},
   "source": [
    "## Overview of the DataSet\n",
    "\n",
    "SpaceX has gained worldwide attention for a series of historic milestones. \n",
    "\n",
    "It is the only private company ever to return a spacecraft from low-earth orbit, which it first accomplished in December 2010.\n",
    "SpaceX advertises Falcon 9 rocket launches on its website with a cost of 62 million dollars wheras other providers cost upward of 165 million dollars each, much of the savings is because Space X can reuse the first stage. \n",
    "\n",
    "\n",
    "Therefore if we can determine if the first stage will land, we can determine the cost of a launch. \n",
    "\n",
    "This information can be used if an alternate company wants to bid against SpaceX for a rocket launch.\n",
    "\n",
    "This dataset includes a record for each payload carried during a SpaceX mission into outer space.\n"
   ]
  },
  {
   "cell_type": "markdown",
   "metadata": {},
   "source": [
    "### Download the datasets\n",
    "\n",
    "This assignment requires you to load the spacex dataset.\n",
    "\n",
    "In many cases the dataset to be analyzed is available as a .CSV (comma separated values) file, perhaps on the internet. Click on the link below to download and save the dataset (.CSV file):\n",
    "\n",
    " <a href=\"https://cf-courses-data.s3.us.cloud-object-storage.appdomain.cloud/IBM-DS0321EN-SkillsNetwork/labs/module_2/data/Spacex.csv\" target=\"_blank\">Spacex DataSet</a>\n",
    "\n"
   ]
  },
  {
   "cell_type": "code",
   "execution_count": 1,
   "metadata": {},
   "outputs": [
    {
     "name": "stdout",
     "output_type": "stream",
     "text": [
      "Collecting sqlalchemy==1.3.9\n",
      "  Downloading SQLAlchemy-1.3.9.tar.gz (6.0 MB)\n",
      "     ---------------------------------------- 0.0/6.0 MB ? eta -:--:--\n",
      "     - -------------------------------------- 0.3/6.0 MB ? eta -:--:--\n",
      "     --- ------------------------------------ 0.5/6.0 MB 2.8 MB/s eta 0:00:02\n",
      "     ------- -------------------------------- 1.0/6.0 MB 2.2 MB/s eta 0:00:03\n",
      "     -------- ------------------------------- 1.3/6.0 MB 2.1 MB/s eta 0:00:03\n",
      "     ------------ --------------------------- 1.8/6.0 MB 1.9 MB/s eta 0:00:03\n",
      "     --------------- ------------------------ 2.4/6.0 MB 1.9 MB/s eta 0:00:02\n",
      "     ----------------- ---------------------- 2.6/6.0 MB 1.9 MB/s eta 0:00:02\n",
      "     ------------------- -------------------- 2.9/6.0 MB 1.8 MB/s eta 0:00:02\n",
      "     ---------------------- ----------------- 3.4/6.0 MB 1.8 MB/s eta 0:00:02\n",
      "     ------------------------ --------------- 3.7/6.0 MB 1.8 MB/s eta 0:00:02\n",
      "     ---------------------------- ----------- 4.2/6.0 MB 1.8 MB/s eta 0:00:01\n",
      "     ----------------------------- ---------- 4.5/6.0 MB 1.8 MB/s eta 0:00:01\n",
      "     --------------------------------- ------ 5.0/6.0 MB 1.8 MB/s eta 0:00:01\n",
      "     ----------------------------------- ---- 5.2/6.0 MB 1.8 MB/s eta 0:00:01\n",
      "     -------------------------------------- - 5.8/6.0 MB 1.8 MB/s eta 0:00:01\n",
      "     ---------------------------------------- 6.0/6.0 MB 1.8 MB/s eta 0:00:00\n",
      "  Preparing metadata (setup.py): started\n",
      "  Preparing metadata (setup.py): finished with status 'done'\n",
      "Building wheels for collected packages: sqlalchemy\n",
      "  Building wheel for sqlalchemy (setup.py): started\n",
      "  Building wheel for sqlalchemy (setup.py): finished with status 'done'\n",
      "  Created wheel for sqlalchemy: filename=SQLAlchemy-1.3.9-cp312-cp312-win_amd64.whl size=1142950 sha256=b12622d021061f29e7c6f1497e539bea0319133a32c554e03d6cf0cb40158f57\n",
      "  Stored in directory: c:\\users\\marij\\appdata\\local\\pip\\cache\\wheels\\b3\\1c\\42\\0e26b8d512adc6bce10ff71a05229366b4ccec641cd3b42111\n",
      "Successfully built sqlalchemy\n",
      "Installing collected packages: sqlalchemy\n",
      "  Attempting uninstall: sqlalchemy\n",
      "    Found existing installation: SQLAlchemy 2.0.34\n",
      "    Uninstalling SQLAlchemy-2.0.34:\n",
      "      Successfully uninstalled SQLAlchemy-2.0.34\n",
      "Successfully installed sqlalchemy-1.3.9\n"
     ]
    },
    {
     "name": "stderr",
     "output_type": "stream",
     "text": [
      "WARNING: Ignoring invalid distribution ~harset-normalizer (C:\\Users\\marij\\anaconda3\\Lib\\site-packages)\n",
      "WARNING: Ignoring invalid distribution ~harset-normalizer (C:\\Users\\marij\\anaconda3\\Lib\\site-packages)\n",
      "  WARNING: Failed to remove contents in a temporary directory 'C:\\Users\\marij\\anaconda3\\Lib\\site-packages\\~qlalchemy'.\n",
      "  You can safely remove it manually.\n",
      "WARNING: Ignoring invalid distribution ~harset-normalizer (C:\\Users\\marij\\anaconda3\\Lib\\site-packages)\n",
      "ERROR: pip's dependency resolver does not currently take into account all the packages that are installed. This behaviour is the source of the following dependency conflicts.\n",
      "aext-project-filebrowser-server 4.1.0 requires sqlalchemy>=2.0.29, but you have sqlalchemy 1.3.9 which is incompatible.\n",
      "ipython-sql 0.5.0 requires sqlalchemy>=2.0, but you have sqlalchemy 1.3.9 which is incompatible.\n"
     ]
    }
   ],
   "source": [
    "!pip install sqlalchemy==1.3.9\n"
   ]
  },
  {
   "cell_type": "markdown",
   "metadata": {},
   "source": [
    "### Connect to the database\n",
    "\n",
    "Let us first load the SQL extension and establish a connection with the database\n"
   ]
  },
  {
   "cell_type": "code",
   "execution_count": 3,
   "metadata": {},
   "outputs": [
    {
     "name": "stdout",
     "output_type": "stream",
     "text": [
      "Requirement already satisfied: ipython-sql in c:\\users\\marij\\anaconda3\\lib\\site-packages (0.5.0)\n",
      "Requirement already satisfied: prettytable in c:\\users\\marij\\anaconda3\\lib\\site-packages (from ipython-sql) (3.15.1)\n",
      "Requirement already satisfied: ipython in c:\\users\\marij\\anaconda3\\lib\\site-packages (from ipython-sql) (8.27.0)\n",
      "Collecting sqlalchemy>=2.0 (from ipython-sql)\n",
      "  Downloading sqlalchemy-2.0.41-cp312-cp312-win_amd64.whl.metadata (9.8 kB)\n",
      "Requirement already satisfied: sqlparse in c:\\users\\marij\\anaconda3\\lib\\site-packages (from ipython-sql) (0.5.3)\n",
      "Requirement already satisfied: six in c:\\users\\marij\\anaconda3\\lib\\site-packages (from ipython-sql) (1.16.0)\n",
      "Requirement already satisfied: ipython-genutils in c:\\users\\marij\\anaconda3\\lib\\site-packages (from ipython-sql) (0.2.0)\n",
      "Requirement already satisfied: greenlet>=1 in c:\\users\\marij\\anaconda3\\lib\\site-packages (from sqlalchemy>=2.0->ipython-sql) (3.0.1)\n",
      "Requirement already satisfied: typing-extensions>=4.6.0 in c:\\users\\marij\\anaconda3\\lib\\site-packages (from sqlalchemy>=2.0->ipython-sql) (4.11.0)\n",
      "Requirement already satisfied: decorator in c:\\users\\marij\\anaconda3\\lib\\site-packages (from ipython->ipython-sql) (5.1.1)\n",
      "Requirement already satisfied: jedi>=0.16 in c:\\users\\marij\\anaconda3\\lib\\site-packages (from ipython->ipython-sql) (0.19.1)\n",
      "Requirement already satisfied: matplotlib-inline in c:\\users\\marij\\anaconda3\\lib\\site-packages (from ipython->ipython-sql) (0.1.6)\n",
      "Requirement already satisfied: prompt-toolkit<3.1.0,>=3.0.41 in c:\\users\\marij\\anaconda3\\lib\\site-packages (from ipython->ipython-sql) (3.0.43)\n",
      "Requirement already satisfied: pygments>=2.4.0 in c:\\users\\marij\\anaconda3\\lib\\site-packages (from ipython->ipython-sql) (2.15.1)\n",
      "Requirement already satisfied: stack-data in c:\\users\\marij\\anaconda3\\lib\\site-packages (from ipython->ipython-sql) (0.2.0)\n",
      "Requirement already satisfied: traitlets>=5.13.0 in c:\\users\\marij\\anaconda3\\lib\\site-packages (from ipython->ipython-sql) (5.14.3)\n",
      "Requirement already satisfied: colorama in c:\\users\\marij\\anaconda3\\lib\\site-packages (from ipython->ipython-sql) (0.4.6)\n",
      "Requirement already satisfied: wcwidth in c:\\users\\marij\\anaconda3\\lib\\site-packages (from prettytable->ipython-sql) (0.2.5)\n",
      "Requirement already satisfied: parso<0.9.0,>=0.8.3 in c:\\users\\marij\\anaconda3\\lib\\site-packages (from jedi>=0.16->ipython->ipython-sql) (0.8.3)\n",
      "Requirement already satisfied: executing in c:\\users\\marij\\anaconda3\\lib\\site-packages (from stack-data->ipython->ipython-sql) (0.8.3)\n",
      "Requirement already satisfied: asttokens in c:\\users\\marij\\anaconda3\\lib\\site-packages (from stack-data->ipython->ipython-sql) (2.0.5)\n",
      "Requirement already satisfied: pure-eval in c:\\users\\marij\\anaconda3\\lib\\site-packages (from stack-data->ipython->ipython-sql) (0.2.2)\n",
      "Downloading sqlalchemy-2.0.41-cp312-cp312-win_amd64.whl (2.1 MB)\n",
      "   ---------------------------------------- 0.0/2.1 MB ? eta -:--:--\n",
      "   ---- ----------------------------------- 0.3/2.1 MB ? eta -:--:--\n",
      "   --------- ------------------------------ 0.5/2.1 MB 2.8 MB/s eta 0:00:01\n",
      "   ------------------- -------------------- 1.0/2.1 MB 1.9 MB/s eta 0:00:01\n",
      "   ----------------------------- ---------- 1.6/2.1 MB 2.0 MB/s eta 0:00:01\n",
      "   ---------------------------------- ----- 1.8/2.1 MB 2.0 MB/s eta 0:00:01\n",
      "   ---------------------------------------- 2.1/2.1 MB 1.9 MB/s eta 0:00:00\n",
      "Installing collected packages: sqlalchemy\n",
      "  Attempting uninstall: sqlalchemy\n",
      "    Found existing installation: SQLAlchemy 1.3.9\n",
      "    Uninstalling SQLAlchemy-1.3.9:\n",
      "      Successfully uninstalled SQLAlchemy-1.3.9\n",
      "Successfully installed sqlalchemy-2.0.41\n"
     ]
    },
    {
     "name": "stderr",
     "output_type": "stream",
     "text": [
      "WARNING: Ignoring invalid distribution ~harset-normalizer (C:\\Users\\marij\\anaconda3\\Lib\\site-packages)\n",
      "WARNING: Ignoring invalid distribution ~harset-normalizer (C:\\Users\\marij\\anaconda3\\Lib\\site-packages)\n",
      "WARNING: Ignoring invalid distribution ~harset-normalizer (C:\\Users\\marij\\anaconda3\\Lib\\site-packages)\n"
     ]
    },
    {
     "name": "stdout",
     "output_type": "stream",
     "text": [
      "Requirement already satisfied: ipython-sql in c:\\users\\marij\\anaconda3\\lib\\site-packages (0.5.0)\n",
      "Requirement already satisfied: prettytable in c:\\users\\marij\\anaconda3\\lib\\site-packages (3.15.1)\n",
      "Requirement already satisfied: ipython in c:\\users\\marij\\anaconda3\\lib\\site-packages (from ipython-sql) (8.27.0)\n",
      "Requirement already satisfied: sqlalchemy>=2.0 in c:\\users\\marij\\anaconda3\\lib\\site-packages (from ipython-sql) (2.0.41)\n",
      "Requirement already satisfied: sqlparse in c:\\users\\marij\\anaconda3\\lib\\site-packages (from ipython-sql) (0.5.3)\n",
      "Requirement already satisfied: six in c:\\users\\marij\\anaconda3\\lib\\site-packages (from ipython-sql) (1.16.0)\n",
      "Requirement already satisfied: ipython-genutils in c:\\users\\marij\\anaconda3\\lib\\site-packages (from ipython-sql) (0.2.0)\n",
      "Requirement already satisfied: wcwidth in c:\\users\\marij\\anaconda3\\lib\\site-packages (from prettytable) (0.2.5)\n",
      "Requirement already satisfied: greenlet>=1 in c:\\users\\marij\\anaconda3\\lib\\site-packages (from sqlalchemy>=2.0->ipython-sql) (3.0.1)\n",
      "Requirement already satisfied: typing-extensions>=4.6.0 in c:\\users\\marij\\anaconda3\\lib\\site-packages (from sqlalchemy>=2.0->ipython-sql) (4.11.0)\n",
      "Requirement already satisfied: decorator in c:\\users\\marij\\anaconda3\\lib\\site-packages (from ipython->ipython-sql) (5.1.1)\n",
      "Requirement already satisfied: jedi>=0.16 in c:\\users\\marij\\anaconda3\\lib\\site-packages (from ipython->ipython-sql) (0.19.1)\n",
      "Requirement already satisfied: matplotlib-inline in c:\\users\\marij\\anaconda3\\lib\\site-packages (from ipython->ipython-sql) (0.1.6)\n",
      "Requirement already satisfied: prompt-toolkit<3.1.0,>=3.0.41 in c:\\users\\marij\\anaconda3\\lib\\site-packages (from ipython->ipython-sql) (3.0.43)\n",
      "Requirement already satisfied: pygments>=2.4.0 in c:\\users\\marij\\anaconda3\\lib\\site-packages (from ipython->ipython-sql) (2.15.1)\n",
      "Requirement already satisfied: stack-data in c:\\users\\marij\\anaconda3\\lib\\site-packages (from ipython->ipython-sql) (0.2.0)\n",
      "Requirement already satisfied: traitlets>=5.13.0 in c:\\users\\marij\\anaconda3\\lib\\site-packages (from ipython->ipython-sql) (5.14.3)\n",
      "Requirement already satisfied: colorama in c:\\users\\marij\\anaconda3\\lib\\site-packages (from ipython->ipython-sql) (0.4.6)\n",
      "Requirement already satisfied: parso<0.9.0,>=0.8.3 in c:\\users\\marij\\anaconda3\\lib\\site-packages (from jedi>=0.16->ipython->ipython-sql) (0.8.3)\n",
      "Requirement already satisfied: executing in c:\\users\\marij\\anaconda3\\lib\\site-packages (from stack-data->ipython->ipython-sql) (0.8.3)\n",
      "Requirement already satisfied: asttokens in c:\\users\\marij\\anaconda3\\lib\\site-packages (from stack-data->ipython->ipython-sql) (2.0.5)\n",
      "Requirement already satisfied: pure-eval in c:\\users\\marij\\anaconda3\\lib\\site-packages (from stack-data->ipython->ipython-sql) (0.2.2)\n"
     ]
    },
    {
     "name": "stderr",
     "output_type": "stream",
     "text": [
      "WARNING: Ignoring invalid distribution ~harset-normalizer (C:\\Users\\marij\\anaconda3\\Lib\\site-packages)\n",
      "WARNING: Ignoring invalid distribution ~harset-normalizer (C:\\Users\\marij\\anaconda3\\Lib\\site-packages)\n",
      "WARNING: Ignoring invalid distribution ~harset-normalizer (C:\\Users\\marij\\anaconda3\\Lib\\site-packages)\n"
     ]
    }
   ],
   "source": [
    "!pip install ipython-sql\n",
    "!pip install ipython-sql prettytable"
   ]
  },
  {
   "cell_type": "code",
   "execution_count": 5,
   "metadata": {},
   "outputs": [],
   "source": [
    "%load_ext sql"
   ]
  },
  {
   "cell_type": "code",
   "execution_count": 7,
   "metadata": {},
   "outputs": [],
   "source": [
    "import csv, sqlite3\n",
    "import prettytable\n",
    "prettytable.DEFAULT = 'DEFAULT'\n",
    "\n",
    "con = sqlite3.connect(\"my_data1.db\")\n",
    "cur = con.cursor()"
   ]
  },
  {
   "cell_type": "code",
   "execution_count": 9,
   "metadata": {},
   "outputs": [
    {
     "name": "stderr",
     "output_type": "stream",
     "text": [
      "WARNING: Ignoring invalid distribution ~harset-normalizer (C:\\Users\\marij\\anaconda3\\Lib\\site-packages)\n",
      "WARNING: Ignoring invalid distribution ~harset-normalizer (C:\\Users\\marij\\anaconda3\\Lib\\site-packages)\n",
      "WARNING: Ignoring invalid distribution ~harset-normalizer (C:\\Users\\marij\\anaconda3\\Lib\\site-packages)\n"
     ]
    }
   ],
   "source": [
    "!pip install -q pandas"
   ]
  },
  {
   "cell_type": "code",
   "execution_count": 11,
   "metadata": {},
   "outputs": [],
   "source": [
    "%sql sqlite:///my_data1.db"
   ]
  },
  {
   "cell_type": "code",
   "execution_count": 13,
   "metadata": {},
   "outputs": [
    {
     "data": {
      "text/plain": [
       "101"
      ]
     },
     "execution_count": 13,
     "metadata": {},
     "output_type": "execute_result"
    }
   ],
   "source": [
    "import pandas as pd\n",
    "df = pd.read_csv(\"https://cf-courses-data.s3.us.cloud-object-storage.appdomain.cloud/IBM-DS0321EN-SkillsNetwork/labs/module_2/data/Spacex.csv\")\n",
    "df.to_sql(\"SPACEXTBL\", con, if_exists='replace', index=False,method=\"multi\")"
   ]
  },
  {
   "cell_type": "markdown",
   "metadata": {},
   "source": [
    "**Note:This below code is added to remove blank rows from table**\n"
   ]
  },
  {
   "cell_type": "code",
   "execution_count": 15,
   "metadata": {},
   "outputs": [
    {
     "name": "stdout",
     "output_type": "stream",
     "text": [
      " * sqlite:///my_data1.db\n",
      "Done.\n"
     ]
    },
    {
     "data": {
      "text/plain": [
       "[]"
      ]
     },
     "execution_count": 15,
     "metadata": {},
     "output_type": "execute_result"
    }
   ],
   "source": [
    "#DROP THE TABLE IF EXISTS\n",
    "\n",
    "%sql DROP TABLE IF EXISTS SPACEXTABLE;"
   ]
  },
  {
   "cell_type": "code",
   "execution_count": 17,
   "metadata": {},
   "outputs": [
    {
     "name": "stdout",
     "output_type": "stream",
     "text": [
      " * sqlite:///my_data1.db\n",
      "Done.\n"
     ]
    },
    {
     "data": {
      "text/plain": [
       "[]"
      ]
     },
     "execution_count": 17,
     "metadata": {},
     "output_type": "execute_result"
    }
   ],
   "source": [
    "%sql create table SPACEXTABLE as select * from SPACEXTBL where Date is not null"
   ]
  },
  {
   "cell_type": "markdown",
   "metadata": {},
   "source": [
    "## Tasks\n",
    "\n",
    "Now write and execute SQL queries to solve the assignment tasks.\n",
    "\n",
    "**Note: If the column names are in mixed case enclose it in double quotes\n",
    "   For Example \"Landing_Outcome\"**\n",
    "\n",
    "### Task 1\n",
    "\n",
    "\n",
    "\n",
    "\n",
    "##### Display the names of the unique launch sites  in the space mission\n"
   ]
  },
  {
   "cell_type": "code",
   "execution_count": 40,
   "metadata": {},
   "outputs": [
    {
     "name": "stdout",
     "output_type": "stream",
     "text": [
      " * sqlite:///my_data1.db\n",
      "Done.\n"
     ]
    },
    {
     "data": {
      "text/html": [
       "<table>\n",
       "    <thead>\n",
       "        <tr>\n",
       "            <th>Launch_Site</th>\n",
       "        </tr>\n",
       "    </thead>\n",
       "    <tbody>\n",
       "        <tr>\n",
       "            <td>CCAFS LC-40</td>\n",
       "        </tr>\n",
       "        <tr>\n",
       "            <td>VAFB SLC-4E</td>\n",
       "        </tr>\n",
       "        <tr>\n",
       "            <td>KSC LC-39A</td>\n",
       "        </tr>\n",
       "        <tr>\n",
       "            <td>CCAFS SLC-40</td>\n",
       "        </tr>\n",
       "    </tbody>\n",
       "</table>"
      ],
      "text/plain": [
       "[('CCAFS LC-40',), ('VAFB SLC-4E',), ('KSC LC-39A',), ('CCAFS SLC-40',)]"
      ]
     },
     "execution_count": 40,
     "metadata": {},
     "output_type": "execute_result"
    }
   ],
   "source": [
    "%sql select distinct Launch_Site from SPACEXTABLE"
   ]
  },
  {
   "cell_type": "markdown",
   "metadata": {},
   "source": [
    "\n",
    "### Task 2\n",
    "\n",
    "\n",
    "#####  Display 5 records where launch sites begin with the string 'CCA' \n"
   ]
  },
  {
   "cell_type": "code",
   "execution_count": 44,
   "metadata": {},
   "outputs": [
    {
     "name": "stdout",
     "output_type": "stream",
     "text": [
      " * sqlite:///my_data1.db\n",
      "Done.\n"
     ]
    },
    {
     "data": {
      "text/html": [
       "<table>\n",
       "    <thead>\n",
       "        <tr>\n",
       "            <th>Date</th>\n",
       "            <th>Time (UTC)</th>\n",
       "            <th>Booster_Version</th>\n",
       "            <th>Launch_Site</th>\n",
       "            <th>Payload</th>\n",
       "            <th>PAYLOAD_MASS__KG_</th>\n",
       "            <th>Orbit</th>\n",
       "            <th>Customer</th>\n",
       "            <th>Mission_Outcome</th>\n",
       "            <th>Landing_Outcome</th>\n",
       "        </tr>\n",
       "    </thead>\n",
       "    <tbody>\n",
       "        <tr>\n",
       "            <td>2010-06-04</td>\n",
       "            <td>18:45:00</td>\n",
       "            <td>F9 v1.0  B0003</td>\n",
       "            <td>CCAFS LC-40</td>\n",
       "            <td>Dragon Spacecraft Qualification Unit</td>\n",
       "            <td>0</td>\n",
       "            <td>LEO</td>\n",
       "            <td>SpaceX</td>\n",
       "            <td>Success</td>\n",
       "            <td>Failure (parachute)</td>\n",
       "        </tr>\n",
       "        <tr>\n",
       "            <td>2010-12-08</td>\n",
       "            <td>15:43:00</td>\n",
       "            <td>F9 v1.0  B0004</td>\n",
       "            <td>CCAFS LC-40</td>\n",
       "            <td>Dragon demo flight C1, two CubeSats, barrel of Brouere cheese</td>\n",
       "            <td>0</td>\n",
       "            <td>LEO (ISS)</td>\n",
       "            <td>NASA (COTS) NRO</td>\n",
       "            <td>Success</td>\n",
       "            <td>Failure (parachute)</td>\n",
       "        </tr>\n",
       "        <tr>\n",
       "            <td>2012-05-22</td>\n",
       "            <td>7:44:00</td>\n",
       "            <td>F9 v1.0  B0005</td>\n",
       "            <td>CCAFS LC-40</td>\n",
       "            <td>Dragon demo flight C2</td>\n",
       "            <td>525</td>\n",
       "            <td>LEO (ISS)</td>\n",
       "            <td>NASA (COTS)</td>\n",
       "            <td>Success</td>\n",
       "            <td>No attempt</td>\n",
       "        </tr>\n",
       "        <tr>\n",
       "            <td>2012-10-08</td>\n",
       "            <td>0:35:00</td>\n",
       "            <td>F9 v1.0  B0006</td>\n",
       "            <td>CCAFS LC-40</td>\n",
       "            <td>SpaceX CRS-1</td>\n",
       "            <td>500</td>\n",
       "            <td>LEO (ISS)</td>\n",
       "            <td>NASA (CRS)</td>\n",
       "            <td>Success</td>\n",
       "            <td>No attempt</td>\n",
       "        </tr>\n",
       "        <tr>\n",
       "            <td>2013-03-01</td>\n",
       "            <td>15:10:00</td>\n",
       "            <td>F9 v1.0  B0007</td>\n",
       "            <td>CCAFS LC-40</td>\n",
       "            <td>SpaceX CRS-2</td>\n",
       "            <td>677</td>\n",
       "            <td>LEO (ISS)</td>\n",
       "            <td>NASA (CRS)</td>\n",
       "            <td>Success</td>\n",
       "            <td>No attempt</td>\n",
       "        </tr>\n",
       "    </tbody>\n",
       "</table>"
      ],
      "text/plain": [
       "[('2010-06-04', '18:45:00', 'F9 v1.0  B0003', 'CCAFS LC-40', 'Dragon Spacecraft Qualification Unit', 0, 'LEO', 'SpaceX', 'Success', 'Failure (parachute)'),\n",
       " ('2010-12-08', '15:43:00', 'F9 v1.0  B0004', 'CCAFS LC-40', 'Dragon demo flight C1, two CubeSats, barrel of Brouere cheese', 0, 'LEO (ISS)', 'NASA (COTS) NRO', 'Success', 'Failure (parachute)'),\n",
       " ('2012-05-22', '7:44:00', 'F9 v1.0  B0005', 'CCAFS LC-40', 'Dragon demo flight C2', 525, 'LEO (ISS)', 'NASA (COTS)', 'Success', 'No attempt'),\n",
       " ('2012-10-08', '0:35:00', 'F9 v1.0  B0006', 'CCAFS LC-40', 'SpaceX CRS-1', 500, 'LEO (ISS)', 'NASA (CRS)', 'Success', 'No attempt'),\n",
       " ('2013-03-01', '15:10:00', 'F9 v1.0  B0007', 'CCAFS LC-40', 'SpaceX CRS-2', 677, 'LEO (ISS)', 'NASA (CRS)', 'Success', 'No attempt')]"
      ]
     },
     "execution_count": 44,
     "metadata": {},
     "output_type": "execute_result"
    }
   ],
   "source": [
    "%sql select * from SPACEXTABLE where Launch_Site like 'CCA%' limit 5"
   ]
  },
  {
   "cell_type": "markdown",
   "metadata": {},
   "source": [
    "### Task 3\n",
    "\n",
    "\n",
    "\n",
    "\n",
    "##### Display the total payload mass carried by boosters launched by NASA (CRS)\n"
   ]
  },
  {
   "cell_type": "code",
   "execution_count": 46,
   "metadata": {},
   "outputs": [
    {
     "name": "stdout",
     "output_type": "stream",
     "text": [
      " * sqlite:///my_data1.db\n",
      "Done.\n"
     ]
    },
    {
     "data": {
      "text/html": [
       "<table>\n",
       "    <thead>\n",
       "        <tr>\n",
       "            <th>sum(PAYLOAD_MASS__KG_)</th>\n",
       "        </tr>\n",
       "    </thead>\n",
       "    <tbody>\n",
       "        <tr>\n",
       "            <td>45596</td>\n",
       "        </tr>\n",
       "    </tbody>\n",
       "</table>"
      ],
      "text/plain": [
       "[(45596,)]"
      ]
     },
     "execution_count": 46,
     "metadata": {},
     "output_type": "execute_result"
    }
   ],
   "source": [
    "%sql select sum(PAYLOAD_MASS__KG_) from SPACEXTABLE where Customer like 'NASA (CRS)'"
   ]
  },
  {
   "cell_type": "markdown",
   "metadata": {},
   "source": [
    "### Task 4\n",
    "\n",
    "\n",
    "\n",
    "\n",
    "##### Display average payload mass carried by booster version F9 v1.1\n"
   ]
  },
  {
   "cell_type": "code",
   "execution_count": 49,
   "metadata": {},
   "outputs": [
    {
     "name": "stdout",
     "output_type": "stream",
     "text": [
      " * sqlite:///my_data1.db\n",
      "Done.\n"
     ]
    },
    {
     "data": {
      "text/html": [
       "<table>\n",
       "    <thead>\n",
       "        <tr>\n",
       "            <th>avg(PAYLOAD_MASS__KG_)</th>\n",
       "        </tr>\n",
       "    </thead>\n",
       "    <tbody>\n",
       "        <tr>\n",
       "            <td>2928.4</td>\n",
       "        </tr>\n",
       "    </tbody>\n",
       "</table>"
      ],
      "text/plain": [
       "[(2928.4,)]"
      ]
     },
     "execution_count": 49,
     "metadata": {},
     "output_type": "execute_result"
    }
   ],
   "source": [
    "%sql select avg(PAYLOAD_MASS__KG_) from SPACEXTABLE where Booster_Version like 'F9 v1.1'"
   ]
  },
  {
   "cell_type": "markdown",
   "metadata": {},
   "source": [
    "### Task 5\n",
    "\n",
    "##### List the date when the first succesful landing outcome in ground pad was acheived.\n",
    "\n",
    "\n",
    "_Hint:Use min function_ \n"
   ]
  },
  {
   "cell_type": "code",
   "execution_count": 51,
   "metadata": {},
   "outputs": [
    {
     "name": "stdout",
     "output_type": "stream",
     "text": [
      " * sqlite:///my_data1.db\n",
      "Done.\n"
     ]
    },
    {
     "data": {
      "text/html": [
       "<table>\n",
       "    <thead>\n",
       "        <tr>\n",
       "            <th>min(date)</th>\n",
       "        </tr>\n",
       "    </thead>\n",
       "    <tbody>\n",
       "        <tr>\n",
       "            <td>2015-12-22</td>\n",
       "        </tr>\n",
       "    </tbody>\n",
       "</table>"
      ],
      "text/plain": [
       "[('2015-12-22',)]"
      ]
     },
     "execution_count": 51,
     "metadata": {},
     "output_type": "execute_result"
    }
   ],
   "source": [
    "%sql select min(date) from SPACEXTABLE where Landing_Outcome like 'Success (ground pad)'"
   ]
  },
  {
   "cell_type": "markdown",
   "metadata": {},
   "source": [
    "### Task 6\n",
    "\n",
    "##### List the names of the boosters which have success in drone ship and have payload mass greater than 4000 but less than 6000\n"
   ]
  },
  {
   "cell_type": "code",
   "execution_count": 61,
   "metadata": {},
   "outputs": [
    {
     "name": "stdout",
     "output_type": "stream",
     "text": [
      " * sqlite:///my_data1.db\n",
      "Done.\n"
     ]
    },
    {
     "data": {
      "text/html": [
       "<table>\n",
       "    <thead>\n",
       "        <tr>\n",
       "            <th>Booster_Version</th>\n",
       "        </tr>\n",
       "    </thead>\n",
       "    <tbody>\n",
       "        <tr>\n",
       "            <td>F9 FT B1029.1</td>\n",
       "        </tr>\n",
       "        <tr>\n",
       "            <td>F9 FT B1034</td>\n",
       "        </tr>\n",
       "        <tr>\n",
       "            <td>F9 FT B1036.1</td>\n",
       "        </tr>\n",
       "        <tr>\n",
       "            <td>F9 FT B1037</td>\n",
       "        </tr>\n",
       "        <tr>\n",
       "            <td>F9 B4 B1041.1</td>\n",
       "        </tr>\n",
       "        <tr>\n",
       "            <td>F9 FT  B1036.2</td>\n",
       "        </tr>\n",
       "        <tr>\n",
       "            <td>F9 B4 B1044</td>\n",
       "        </tr>\n",
       "        <tr>\n",
       "            <td>F9 B4  B1041.2</td>\n",
       "        </tr>\n",
       "        <tr>\n",
       "            <td>F9 B4  B1043.2</td>\n",
       "        </tr>\n",
       "        <tr>\n",
       "            <td>F9 B5B1047.1</td>\n",
       "        </tr>\n",
       "        <tr>\n",
       "            <td>F9 B5B1048.1</td>\n",
       "        </tr>\n",
       "        <tr>\n",
       "            <td>F9 B5B1049.1</td>\n",
       "        </tr>\n",
       "        <tr>\n",
       "            <td>F9 B5 B1049.2</td>\n",
       "        </tr>\n",
       "        <tr>\n",
       "            <td>F9 B5B1051.1</td>\n",
       "        </tr>\n",
       "        <tr>\n",
       "            <td>F9 B5 B1049.3</td>\n",
       "        </tr>\n",
       "        <tr>\n",
       "            <td>F9 B5 B1047.3 </td>\n",
       "        </tr>\n",
       "        <tr>\n",
       "            <td>F9 B5 B1048.4</td>\n",
       "        </tr>\n",
       "        <tr>\n",
       "            <td>F9 B5 B1056.3 </td>\n",
       "        </tr>\n",
       "        <tr>\n",
       "            <td>F9 B5 B1049.4</td>\n",
       "        </tr>\n",
       "        <tr>\n",
       "            <td>F9 B5 B1046.4</td>\n",
       "        </tr>\n",
       "        <tr>\n",
       "            <td>F9 B5 B1051.3</td>\n",
       "        </tr>\n",
       "        <tr>\n",
       "            <td>F9 B5 B1056.4</td>\n",
       "        </tr>\n",
       "        <tr>\n",
       "            <td>F9 B5 B1048.5</td>\n",
       "        </tr>\n",
       "        <tr>\n",
       "            <td>F9 B5 B1051.4</td>\n",
       "        </tr>\n",
       "        <tr>\n",
       "            <td>F9 B5B1058.1 </td>\n",
       "        </tr>\n",
       "        <tr>\n",
       "            <td>F9 B5 B1049.5</td>\n",
       "        </tr>\n",
       "        <tr>\n",
       "            <td>F9 B5 B1059.3</td>\n",
       "        </tr>\n",
       "        <tr>\n",
       "            <td>F9 B5 B1051.5</td>\n",
       "        </tr>\n",
       "        <tr>\n",
       "            <td>F9 B5 B1049.6</td>\n",
       "        </tr>\n",
       "        <tr>\n",
       "            <td>F9 B5 B1060.2 </td>\n",
       "        </tr>\n",
       "        <tr>\n",
       "            <td>F9 B5 B1058.3 </td>\n",
       "        </tr>\n",
       "        <tr>\n",
       "            <td>F9 B5 B1051.6</td>\n",
       "        </tr>\n",
       "        <tr>\n",
       "            <td>F9 B5 B1060.3</td>\n",
       "        </tr>\n",
       "        <tr>\n",
       "            <td>F9 B5B1061.1 </td>\n",
       "        </tr>\n",
       "        <tr>\n",
       "            <td>F9 B5 B1049.7 </td>\n",
       "        </tr>\n",
       "    </tbody>\n",
       "</table>"
      ],
      "text/plain": [
       "[('F9 FT B1029.1',),\n",
       " ('F9 FT B1034',),\n",
       " ('F9 FT B1036.1',),\n",
       " ('F9 FT B1037',),\n",
       " ('F9 B4 B1041.1',),\n",
       " ('F9 FT  B1036.2',),\n",
       " ('F9 B4 B1044',),\n",
       " ('F9 B4  B1041.2',),\n",
       " ('F9 B4  B1043.2',),\n",
       " ('F9 B5B1047.1',),\n",
       " ('F9 B5B1048.1',),\n",
       " ('F9 B5B1049.1',),\n",
       " ('F9 B5 B1049.2',),\n",
       " ('F9 B5B1051.1',),\n",
       " ('F9 B5 B1049.3',),\n",
       " ('F9 B5 B1047.3 ',),\n",
       " ('F9 B5 B1048.4',),\n",
       " ('F9 B5 B1056.3 ',),\n",
       " ('F9 B5 B1049.4',),\n",
       " ('F9 B5 B1046.4',),\n",
       " ('F9 B5 B1051.3',),\n",
       " ('F9 B5 B1056.4',),\n",
       " ('F9 B5 B1048.5',),\n",
       " ('F9 B5 B1051.4',),\n",
       " ('F9 B5B1058.1 ',),\n",
       " ('F9 B5 B1049.5',),\n",
       " ('F9 B5 B1059.3',),\n",
       " ('F9 B5 B1051.5',),\n",
       " ('F9 B5 B1049.6',),\n",
       " ('F9 B5 B1060.2 ',),\n",
       " ('F9 B5 B1058.3 ',),\n",
       " ('F9 B5 B1051.6',),\n",
       " ('F9 B5 B1060.3',),\n",
       " ('F9 B5B1061.1 ',),\n",
       " ('F9 B5 B1049.7 ',)]"
      ]
     },
     "execution_count": 61,
     "metadata": {},
     "output_type": "execute_result"
    }
   ],
   "source": [
    "%sql select distinct(Booster_Version) from SPACEXTABLE where PAYLOAD_MASS__KG_ > 4000 and PAYLOAD_MASS__KG_ > 6000"
   ]
  },
  {
   "cell_type": "markdown",
   "metadata": {},
   "source": [
    "### Task 7\n",
    "\n",
    "\n",
    "\n",
    "\n",
    "##### List the total number of successful and failure mission outcomes\n"
   ]
  },
  {
   "cell_type": "code",
   "execution_count": 63,
   "metadata": {},
   "outputs": [
    {
     "name": "stdout",
     "output_type": "stream",
     "text": [
      " * sqlite:///my_data1.db\n",
      "Done.\n"
     ]
    },
    {
     "data": {
      "text/html": [
       "<table>\n",
       "    <thead>\n",
       "        <tr>\n",
       "            <th>count(Mission_Outcome)</th>\n",
       "        </tr>\n",
       "    </thead>\n",
       "    <tbody>\n",
       "        <tr>\n",
       "            <td>101</td>\n",
       "        </tr>\n",
       "    </tbody>\n",
       "</table>"
      ],
      "text/plain": [
       "[(101,)]"
      ]
     },
     "execution_count": 63,
     "metadata": {},
     "output_type": "execute_result"
    }
   ],
   "source": [
    "%sql select count(Mission_Outcome) from SPACEXTABLE"
   ]
  },
  {
   "cell_type": "markdown",
   "metadata": {},
   "source": [
    "### Task 8\n",
    "\n",
    "\n",
    "\n",
    "##### List all the booster_versions that have carried the maximum payload mass, using a subquery with a suitable aggregate function.\n"
   ]
  },
  {
   "cell_type": "code",
   "execution_count": 109,
   "metadata": {},
   "outputs": [
    {
     "name": "stdout",
     "output_type": "stream",
     "text": [
      " * sqlite:///my_data1.db\n",
      "Done.\n"
     ]
    },
    {
     "data": {
      "text/html": [
       "<table>\n",
       "    <thead>\n",
       "        <tr>\n",
       "            <th>max(PAYLOAD_MASS__KG_)</th>\n",
       "        </tr>\n",
       "    </thead>\n",
       "    <tbody>\n",
       "        <tr>\n",
       "            <td>2647</td>\n",
       "        </tr>\n",
       "        <tr>\n",
       "            <td>5384</td>\n",
       "        </tr>\n",
       "        <tr>\n",
       "            <td>9600</td>\n",
       "        </tr>\n",
       "        <tr>\n",
       "            <td>6460</td>\n",
       "        </tr>\n",
       "        <tr>\n",
       "            <td>3310</td>\n",
       "        </tr>\n",
       "        <tr>\n",
       "            <td>4990</td>\n",
       "        </tr>\n",
       "        <tr>\n",
       "            <td>9600</td>\n",
       "        </tr>\n",
       "        <tr>\n",
       "            <td>3500</td>\n",
       "        </tr>\n",
       "        <tr>\n",
       "            <td>5000</td>\n",
       "        </tr>\n",
       "        <tr>\n",
       "            <td>6092</td>\n",
       "        </tr>\n",
       "        <tr>\n",
       "            <td>362</td>\n",
       "        </tr>\n",
       "        <tr>\n",
       "            <td>2697</td>\n",
       "        </tr>\n",
       "        <tr>\n",
       "            <td>3600</td>\n",
       "        </tr>\n",
       "        <tr>\n",
       "            <td>5800</td>\n",
       "        </tr>\n",
       "        <tr>\n",
       "            <td>4000</td>\n",
       "        </tr>\n",
       "        <tr>\n",
       "            <td>12050</td>\n",
       "        </tr>\n",
       "        <tr>\n",
       "            <td>5300</td>\n",
       "        </tr>\n",
       "        <tr>\n",
       "            <td>6500</td>\n",
       "        </tr>\n",
       "        <tr>\n",
       "            <td>3000</td>\n",
       "        </tr>\n",
       "        <tr>\n",
       "            <td>4850</td>\n",
       "        </tr>\n",
       "        <tr>\n",
       "            <td>15600</td>\n",
       "        </tr>\n",
       "        <tr>\n",
       "            <td>15600</td>\n",
       "        </tr>\n",
       "        <tr>\n",
       "            <td>9600</td>\n",
       "        </tr>\n",
       "        <tr>\n",
       "            <td>13620</td>\n",
       "        </tr>\n",
       "        <tr>\n",
       "            <td>15600</td>\n",
       "        </tr>\n",
       "        <tr>\n",
       "            <td>15600</td>\n",
       "        </tr>\n",
       "        <tr>\n",
       "            <td>15440</td>\n",
       "        </tr>\n",
       "        <tr>\n",
       "            <td>15600</td>\n",
       "        </tr>\n",
       "        <tr>\n",
       "            <td>4200</td>\n",
       "        </tr>\n",
       "        <tr>\n",
       "            <td>15600</td>\n",
       "        </tr>\n",
       "        <tr>\n",
       "            <td>15600</td>\n",
       "        </tr>\n",
       "        <tr>\n",
       "            <td>14932</td>\n",
       "        </tr>\n",
       "        <tr>\n",
       "            <td>15600</td>\n",
       "        </tr>\n",
       "        <tr>\n",
       "            <td>2268</td>\n",
       "        </tr>\n",
       "        <tr>\n",
       "            <td>6956</td>\n",
       "        </tr>\n",
       "        <tr>\n",
       "            <td>15600</td>\n",
       "        </tr>\n",
       "        <tr>\n",
       "            <td>5500</td>\n",
       "        </tr>\n",
       "        <tr>\n",
       "            <td>15600</td>\n",
       "        </tr>\n",
       "        <tr>\n",
       "            <td>2972</td>\n",
       "        </tr>\n",
       "        <tr>\n",
       "            <td>1977</td>\n",
       "        </tr>\n",
       "        <tr>\n",
       "            <td>15410</td>\n",
       "        </tr>\n",
       "        <tr>\n",
       "            <td>3130</td>\n",
       "        </tr>\n",
       "        <tr>\n",
       "            <td>15600</td>\n",
       "        </tr>\n",
       "        <tr>\n",
       "            <td>15600</td>\n",
       "        </tr>\n",
       "        <tr>\n",
       "            <td>7075</td>\n",
       "        </tr>\n",
       "        <tr>\n",
       "            <td>9600</td>\n",
       "        </tr>\n",
       "        <tr>\n",
       "            <td>7060</td>\n",
       "        </tr>\n",
       "        <tr>\n",
       "            <td>2500</td>\n",
       "        </tr>\n",
       "        <tr>\n",
       "            <td>12055</td>\n",
       "        </tr>\n",
       "        <tr>\n",
       "            <td>4400</td>\n",
       "        </tr>\n",
       "        <tr>\n",
       "            <td>2495</td>\n",
       "        </tr>\n",
       "        <tr>\n",
       "            <td>12530</td>\n",
       "        </tr>\n",
       "        <tr>\n",
       "            <td>2617</td>\n",
       "        </tr>\n",
       "        <tr>\n",
       "            <td>4311</td>\n",
       "        </tr>\n",
       "        <tr>\n",
       "            <td>12500</td>\n",
       "        </tr>\n",
       "        <tr>\n",
       "            <td>4311</td>\n",
       "        </tr>\n",
       "        <tr>\n",
       "            <td>1192</td>\n",
       "        </tr>\n",
       "        <tr>\n",
       "            <td>5300</td>\n",
       "        </tr>\n",
       "        <tr>\n",
       "            <td>3669</td>\n",
       "        </tr>\n",
       "        <tr>\n",
       "            <td>5200</td>\n",
       "        </tr>\n",
       "        <tr>\n",
       "            <td>4230</td>\n",
       "        </tr>\n",
       "        <tr>\n",
       "            <td>2205</td>\n",
       "        </tr>\n",
       "        <tr>\n",
       "            <td>9600</td>\n",
       "        </tr>\n",
       "        <tr>\n",
       "            <td>2150</td>\n",
       "        </tr>\n",
       "        <tr>\n",
       "            <td>2034</td>\n",
       "        </tr>\n",
       "        <tr>\n",
       "            <td>5271</td>\n",
       "        </tr>\n",
       "        <tr>\n",
       "            <td>3136</td>\n",
       "        </tr>\n",
       "        <tr>\n",
       "            <td>4696</td>\n",
       "        </tr>\n",
       "        <tr>\n",
       "            <td>3100</td>\n",
       "        </tr>\n",
       "        <tr>\n",
       "            <td>3600</td>\n",
       "        </tr>\n",
       "        <tr>\n",
       "            <td>2257</td>\n",
       "        </tr>\n",
       "        <tr>\n",
       "            <td>4600</td>\n",
       "        </tr>\n",
       "        <tr>\n",
       "            <td>9600</td>\n",
       "        </tr>\n",
       "        <tr>\n",
       "            <td>5600</td>\n",
       "        </tr>\n",
       "        <tr>\n",
       "            <td>2490</td>\n",
       "        </tr>\n",
       "        <tr>\n",
       "            <td>5300</td>\n",
       "        </tr>\n",
       "        <tr>\n",
       "            <td>6070</td>\n",
       "        </tr>\n",
       "        <tr>\n",
       "            <td>2708</td>\n",
       "        </tr>\n",
       "        <tr>\n",
       "            <td>9600</td>\n",
       "        </tr>\n",
       "        <tr>\n",
       "            <td>6761</td>\n",
       "        </tr>\n",
       "        <tr>\n",
       "            <td>475</td>\n",
       "        </tr>\n",
       "        <tr>\n",
       "            <td>0</td>\n",
       "        </tr>\n",
       "        <tr>\n",
       "            <td>0</td>\n",
       "        </tr>\n",
       "        <tr>\n",
       "            <td>525</td>\n",
       "        </tr>\n",
       "        <tr>\n",
       "            <td>500</td>\n",
       "        </tr>\n",
       "        <tr>\n",
       "            <td>677</td>\n",
       "        </tr>\n",
       "        <tr>\n",
       "            <td>4535</td>\n",
       "        </tr>\n",
       "        <tr>\n",
       "            <td>500</td>\n",
       "        </tr>\n",
       "        <tr>\n",
       "            <td>2216</td>\n",
       "        </tr>\n",
       "        <tr>\n",
       "            <td>4428</td>\n",
       "        </tr>\n",
       "        <tr>\n",
       "            <td>2395</td>\n",
       "        </tr>\n",
       "        <tr>\n",
       "            <td>570</td>\n",
       "        </tr>\n",
       "        <tr>\n",
       "            <td>4159</td>\n",
       "        </tr>\n",
       "        <tr>\n",
       "            <td>1898</td>\n",
       "        </tr>\n",
       "        <tr>\n",
       "            <td>4707</td>\n",
       "        </tr>\n",
       "        <tr>\n",
       "            <td>553</td>\n",
       "        </tr>\n",
       "        <tr>\n",
       "            <td>1952</td>\n",
       "        </tr>\n",
       "    </tbody>\n",
       "</table>"
      ],
      "text/plain": [
       "[(2647,),\n",
       " (5384,),\n",
       " (9600,),\n",
       " (6460,),\n",
       " (3310,),\n",
       " (4990,),\n",
       " (9600,),\n",
       " (3500,),\n",
       " (5000,),\n",
       " (6092,),\n",
       " (362,),\n",
       " (2697,),\n",
       " (3600,),\n",
       " (5800,),\n",
       " (4000,),\n",
       " (12050,),\n",
       " (5300,),\n",
       " (6500,),\n",
       " (3000,),\n",
       " (4850,),\n",
       " (15600,),\n",
       " (15600,),\n",
       " (9600,),\n",
       " (13620,),\n",
       " (15600,),\n",
       " (15600,),\n",
       " (15440,),\n",
       " (15600,),\n",
       " (4200,),\n",
       " (15600,),\n",
       " (15600,),\n",
       " (14932,),\n",
       " (15600,),\n",
       " (2268,),\n",
       " (6956,),\n",
       " (15600,),\n",
       " (5500,),\n",
       " (15600,),\n",
       " (2972,),\n",
       " (1977,),\n",
       " (15410,),\n",
       " (3130,),\n",
       " (15600,),\n",
       " (15600,),\n",
       " (7075,),\n",
       " (9600,),\n",
       " (7060,),\n",
       " (2500,),\n",
       " (12055,),\n",
       " (4400,),\n",
       " (2495,),\n",
       " (12530,),\n",
       " (2617,),\n",
       " (4311,),\n",
       " (12500,),\n",
       " (4311,),\n",
       " (1192,),\n",
       " (5300,),\n",
       " (3669,),\n",
       " (5200,),\n",
       " (4230,),\n",
       " (2205,),\n",
       " (9600,),\n",
       " (2150,),\n",
       " (2034,),\n",
       " (5271,),\n",
       " (3136,),\n",
       " (4696,),\n",
       " (3100,),\n",
       " (3600,),\n",
       " (2257,),\n",
       " (4600,),\n",
       " (9600,),\n",
       " (5600,),\n",
       " (2490,),\n",
       " (5300,),\n",
       " (6070,),\n",
       " (2708,),\n",
       " (9600,),\n",
       " (6761,),\n",
       " (475,),\n",
       " (0,),\n",
       " (0,),\n",
       " (525,),\n",
       " (500,),\n",
       " (677,),\n",
       " (4535,),\n",
       " (500,),\n",
       " (2216,),\n",
       " (4428,),\n",
       " (2395,),\n",
       " (570,),\n",
       " (4159,),\n",
       " (1898,),\n",
       " (4707,),\n",
       " (553,),\n",
       " (1952,)]"
      ]
     },
     "execution_count": 109,
     "metadata": {},
     "output_type": "execute_result"
    }
   ],
   "source": [
    "%sql select max(PAYLOAD_MASS__KG_) from SPACEXTABLE group by Booster_Version"
   ]
  },
  {
   "cell_type": "markdown",
   "metadata": {},
   "source": [
    "### Task 9\n",
    "\n",
    "\n",
    "##### List the records which will display the month names, failure landing_outcomes in drone ship ,booster versions, launch_site for the months in year 2015.\n",
    "\n",
    "**Note: SQLLite does not support monthnames. So you need to use  substr(Date, 6,2) as month to get the months and substr(Date,0,5)='2015' for year.**\n"
   ]
  },
  {
   "cell_type": "code",
   "execution_count": 145,
   "metadata": {},
   "outputs": [
    {
     "name": "stdout",
     "output_type": "stream",
     "text": [
      " * sqlite:///my_data1.db\n",
      "Done.\n"
     ]
    },
    {
     "data": {
      "text/html": [
       "<table>\n",
       "    <thead>\n",
       "        <tr>\n",
       "            <th>Year</th>\n",
       "            <th>Month</th>\n",
       "            <th>Landing_Outcome</th>\n",
       "            <th>Booster_Version</th>\n",
       "            <th>Launch_Site</th>\n",
       "        </tr>\n",
       "    </thead>\n",
       "    <tbody>\n",
       "        <tr>\n",
       "            <td>2015</td>\n",
       "            <td>01</td>\n",
       "            <td>Failure (drone ship)</td>\n",
       "            <td>F9 v1.1 B1012</td>\n",
       "            <td>CCAFS LC-40</td>\n",
       "        </tr>\n",
       "        <tr>\n",
       "            <td>2015</td>\n",
       "            <td>04</td>\n",
       "            <td>Failure (drone ship)</td>\n",
       "            <td>F9 v1.1 B1015</td>\n",
       "            <td>CCAFS LC-40</td>\n",
       "        </tr>\n",
       "    </tbody>\n",
       "</table>"
      ],
      "text/plain": [
       "[('2015', '01', 'Failure (drone ship)', 'F9 v1.1 B1012', 'CCAFS LC-40'),\n",
       " ('2015', '04', 'Failure (drone ship)', 'F9 v1.1 B1015', 'CCAFS LC-40')]"
      ]
     },
     "execution_count": 145,
     "metadata": {},
     "output_type": "execute_result"
    }
   ],
   "source": [
    "%sql select substr(Date, 1, 4) AS Year, substr(Date, 6, 2) AS Month, Landing_Outcome, Booster_Version, Launch_Site from SPACEXTABLE where Landing_Outcome like 'Failure (drone ship)' and Year like '2015' \n"
   ]
  },
  {
   "cell_type": "markdown",
   "metadata": {},
   "source": [
    "### Task 10\n",
    "\n",
    "\n",
    "\n",
    "\n",
    "##### Rank the count of landing outcomes (such as Failure (drone ship) or Success (ground pad)) between the date 2010-06-04 and 2017-03-20, in descending order.\n"
   ]
  },
  {
   "cell_type": "code",
   "execution_count": 178,
   "metadata": {},
   "outputs": [
    {
     "name": "stdout",
     "output_type": "stream",
     "text": [
      " * sqlite:///my_data1.db\n",
      "Done.\n"
     ]
    },
    {
     "data": {
      "text/html": [
       "<table>\n",
       "    <thead>\n",
       "        <tr>\n",
       "            <th>Date</th>\n",
       "            <th>Landing_Outcome</th>\n",
       "        </tr>\n",
       "    </thead>\n",
       "    <tbody>\n",
       "        <tr>\n",
       "            <td>2016-06-15</td>\n",
       "            <td>Failure (drone ship)</td>\n",
       "        </tr>\n",
       "        <tr>\n",
       "            <td>2016-03-04</td>\n",
       "            <td>Failure (drone ship)</td>\n",
       "        </tr>\n",
       "        <tr>\n",
       "            <td>2016-01-17</td>\n",
       "            <td>Failure (drone ship)</td>\n",
       "        </tr>\n",
       "        <tr>\n",
       "            <td>2015-04-14</td>\n",
       "            <td>Failure (drone ship)</td>\n",
       "        </tr>\n",
       "        <tr>\n",
       "            <td>2015-01-10</td>\n",
       "            <td>Failure (drone ship)</td>\n",
       "        </tr>\n",
       "    </tbody>\n",
       "</table>"
      ],
      "text/plain": [
       "[('2016-06-15', 'Failure (drone ship)'),\n",
       " ('2016-03-04', 'Failure (drone ship)'),\n",
       " ('2016-01-17', 'Failure (drone ship)'),\n",
       " ('2015-04-14', 'Failure (drone ship)'),\n",
       " ('2015-01-10', 'Failure (drone ship)')]"
      ]
     },
     "execution_count": 178,
     "metadata": {},
     "output_type": "execute_result"
    }
   ],
   "source": [
    "%sql select Date, Landing_Outcome from SPACEXTABLE WHERE  Landing_Outcome like 'Failure (drone ship)' order by Date desc;"
   ]
  },
  {
   "cell_type": "markdown",
   "metadata": {},
   "source": [
    "### Reference Links\n",
    "\n",
    "* <a href =\"https://cf-courses-data.s3.us.cloud-object-storage.appdomain.cloud/IBMDeveloperSkillsNetwork-DB0201EN-SkillsNetwork/labs/Labs_Coursera_V5/labs/Lab%20-%20String%20Patterns%20-%20Sorting%20-%20Grouping/instructional-labs.md.html?origin=www.coursera.org\">Hands-on Lab : String Patterns, Sorting and Grouping</a>  \n",
    "\n",
    "*  <a  href=\"https://cf-courses-data.s3.us.cloud-object-storage.appdomain.cloud/IBMDeveloperSkillsNetwork-DB0201EN-SkillsNetwork/labs/Labs_Coursera_V5/labs/Lab%20-%20Built-in%20functions%20/Hands-on_Lab__Built-in_Functions.md.html?origin=www.coursera.org\">Hands-on Lab: Built-in functions</a>\n",
    "\n",
    "*  <a  href=\"https://cf-courses-data.s3.us.cloud-object-storage.appdomain.cloud/IBMDeveloperSkillsNetwork-DB0201EN-SkillsNetwork/labs/Labs_Coursera_V5/labs/Lab%20-%20Sub-queries%20and%20Nested%20SELECTs%20/instructional-labs.md.html?origin=www.coursera.org\">Hands-on Lab : Sub-queries and Nested SELECT Statements</a>\n",
    "\n",
    "*   <a href=\"https://cf-courses-data.s3.us.cloud-object-storage.appdomain.cloud/IBMDeveloperSkillsNetwork-DB0201EN-SkillsNetwork/labs/Module%205/DB0201EN-Week3-1-3-SQLmagic.ipynb\">Hands-on Tutorial: Accessing Databases with SQL magic</a>\n",
    "\n",
    "*  <a href= \"https://cf-courses-data.s3.us.cloud-object-storage.appdomain.cloud/IBMDeveloperSkillsNetwork-DB0201EN-SkillsNetwork/labs/Module%205/DB0201EN-Week3-1-4-Analyzing.ipynb\">Hands-on Lab: Analyzing a real World Data Set</a>\n",
    "\n",
    "\n"
   ]
  },
  {
   "cell_type": "markdown",
   "metadata": {},
   "source": [
    "## Author(s)\n",
    "\n",
    "<h4> Lakshmi Holla </h4>\n"
   ]
  },
  {
   "cell_type": "markdown",
   "metadata": {},
   "source": [
    "## Other Contributors\n",
    "\n",
    "<h4> Rav Ahuja </h4>\n"
   ]
  },
  {
   "cell_type": "markdown",
   "metadata": {},
   "source": [
    "<!--\n",
    "## Change log\n",
    "| Date | Version | Changed by | Change Description |\n",
    "|------|--------|--------|---------|\n",
    "| 2024-07-10 | 1.1 |Anita Verma | Changed Version|\n",
    "| 2021-07-09 | 0.2 |Lakshmi Holla | Changes made in magic sql|\n",
    "| 2021-05-20 | 0.1 |Lakshmi Holla | Created Initial Version |\n",
    "-->\n"
   ]
  },
  {
   "cell_type": "markdown",
   "metadata": {},
   "source": [
    "## <h3 align=\"center\"> © IBM Corporation 2021. All rights reserved. <h3/>\n"
   ]
  }
 ],
 "metadata": {
  "kernelspec": {
   "display_name": "Python [conda env:base] *",
   "language": "python",
   "name": "conda-base-py"
  },
  "language_info": {
   "codemirror_mode": {
    "name": "ipython",
    "version": 3
   },
   "file_extension": ".py",
   "mimetype": "text/x-python",
   "name": "python",
   "nbconvert_exporter": "python",
   "pygments_lexer": "ipython3",
   "version": "3.12.7"
  },
  "prev_pub_hash": "12df46c3b0654f639da96fac3e05f156ee105e47e0c79adacb1892bc327713de"
 },
 "nbformat": 4,
 "nbformat_minor": 4
}
